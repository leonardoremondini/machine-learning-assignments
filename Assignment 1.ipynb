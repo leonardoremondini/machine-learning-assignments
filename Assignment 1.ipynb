{
  "nbformat": 4,
  "nbformat_minor": 0,
  "metadata": {
    "anaconda-cloud": {},
    "kernelspec": {
      "name": "python3",
      "display_name": "Python 3"
    },
    "language_info": {
      "codemirror_mode": {
        "name": "ipython",
        "version": 3
      },
      "file_extension": ".py",
      "mimetype": "text/x-python",
      "name": "python",
      "nbconvert_exporter": "python",
      "pygments_lexer": "ipython3",
      "version": "3.7.3"
    },
    "colab": {
      "name": "Assignment 1.ipynb",
      "provenance": [],
      "collapsed_sections": []
    },
    "accelerator": "GPU"
  },
  "cells": [
    {
      "cell_type": "code",
      "metadata": {
        "id": "w3TmX2J0UwJ4",
        "colab_type": "code",
        "colab": {}
      },
      "source": [
        "# Fill in your name using the format below and student ID number\n",
        "your_name = \"Remondini, Leonardo\"\n",
        "student_id = \"1518550\""
      ],
      "execution_count": 0,
      "outputs": []
    },
    {
      "cell_type": "code",
      "metadata": {
        "id": "DrbUWXSPlbHN",
        "colab_type": "code",
        "colab": {}
      },
      "source": [
        "!pip install openml"
      ],
      "execution_count": 0,
      "outputs": []
    },
    {
      "cell_type": "markdown",
      "metadata": {
        "id": "e1n49acNUwKH",
        "colab_type": "text"
      },
      "source": [
        "# Assignment 1\n",
        "We will study some more algorithms on the [Fashion-MNIST dataset](https://www.openml.org/d/40996).\n",
        "As we saw in the first lab session, it contains 70,000 images of fashion products, classified into 10 \n",
        "types of clothing, each represented by 28 by 28 pixel values. "
      ]
    },
    {
      "cell_type": "code",
      "metadata": {
        "id": "qYx3eCbfUwKK",
        "colab_type": "code",
        "colab": {}
      },
      "source": [
        "# imports\n",
        "import pandas as pd\n",
        "import numpy as np\n",
        "import matplotlib.pyplot as plt\n",
        "import openml\n",
        "import time\n",
        "import tqdm"
      ],
      "execution_count": 0,
      "outputs": []
    },
    {
      "cell_type": "code",
      "metadata": {
        "id": "PQXtq843UwKS",
        "colab_type": "code",
        "colab": {}
      },
      "source": [
        "# Download FMINST data. Takes a while the first time.\n",
        "fmnist = openml.datasets.get_dataset(40996)\n",
        "X, y, _, _ = fmnist.get_data(target=fmnist.default_target_attribute); \n",
        "fmnist_classes = {0:\"T-shirt/top\", 1: \"Trouser\", 2: \"Pullover\", 3: \"Dress\", 4: \"Coat\", 5: \"Sandal\", \n",
        "                  6: \"Shirt\", 7: \"Sneaker\", 8: \"Bag\", 9: \"Ankle boot\"}"
      ],
      "execution_count": 0,
      "outputs": []
    },
    {
      "cell_type": "code",
      "metadata": {
        "id": "idnpjue_UwKX",
        "colab_type": "code",
        "colab": {}
      },
      "source": [
        "# Plotting functions. Don't edit these.\n",
        "%matplotlib inline\n",
        "from IPython import display\n",
        "\n",
        "def plot_live(X, y, evaluator, param_name, param_range, scale='log', ylim=(0,1), ylabel='score'):\n",
        "    \"\"\" Renders a plot that updates with every evaluation from evaluator.\n",
        "    Keyword arguments:\n",
        "    X -- the data for training and testing\n",
        "    y -- the correct labels\n",
        "    evaluator -- a function with signature (X, y, param_value) that returns a dictionary of scores.\n",
        "                 Examples: {\"train\": 0.9, \"test\": 0.95} or {\"model_1\": 0.9, \"model_2\": 0.7}\n",
        "    param_name -- the parameter that is being varied on the X axis. Can be a hyperparameter, sample size,...\n",
        "    param_range -- list of all possible values on the x-axis\n",
        "    scale -- defines which scale to plot the x-axis on, either 'log' (logarithmic) or 'linear'\n",
        "    ylim -- tuple with the lowest and highest y-value to plot (e.g. (0, 10))\n",
        "    ylabel -- the y-axis title\n",
        "    \"\"\"\n",
        "    # Plot interactively\n",
        "    plt.ion()\n",
        "    plt.ylabel(ylabel)\n",
        "    plt.xlabel(param_name)\n",
        "    \n",
        "    # Make the scale look nice\n",
        "    plt.xscale(scale)\n",
        "    plt.xlim(param_range[0],param_range[-1])\n",
        "    plt.ylim(ylim)\n",
        "        \n",
        "    # Start from empty plot, then fill it\n",
        "    series = {}\n",
        "    lines = {}\n",
        "    xvals = []\n",
        "    for i in param_range:\n",
        "        scores = evaluator(X, y, i)\n",
        "        if i == param_range[0]: # initialize series\n",
        "            for k in scores.keys():\n",
        "                lines[k], = plt.plot(xvals, [], marker = '.', label = k)\n",
        "                series[k] = []\n",
        "        xvals.append(i)\n",
        "        for k in scores.keys(): # append new data\n",
        "            series[k].append(scores[k])\n",
        "            lines[k].set_data(xvals, series[k])\n",
        "        # refresh plot\n",
        "        plt.legend(loc='best')\n",
        "        plt.margins(0.1)\n",
        "        display.display(plt.gcf())\n",
        "        display.clear_output(wait=True)"
      ],
      "execution_count": 0,
      "outputs": []
    },
    {
      "cell_type": "markdown",
      "metadata": {
        "id": "Hbq4S_-rUwKd",
        "colab_type": "text"
      },
      "source": [
        "### Question 1.1\n",
        "Implement a function `evaluate_SVM` that evaluates an SVM with RBF kernel for a given gamma value and returns the train and test score"
      ]
    },
    {
      "cell_type": "code",
      "metadata": {
        "id": "SEmFMpLWUwKe",
        "colab_type": "code",
        "colab": {}
      },
      "source": [
        "# Implement\n",
        "def evaluate_SVM(X, y, gamma):\n",
        "    \"\"\" Evaluate an SVM with 5-fold cross-validation on the provided (X, y) data. \n",
        "    Keyword arguments:\n",
        "    X -- the data for training and testing\n",
        "    y -- the correct labels\n",
        "    gamma -- the value for the gamma parameter\n",
        "    \n",
        "    Returns: a dictionary with the mean train and test score, e.g. {\"train\": 0.9, \"test\": 0.95}\n",
        "    \"\"\"\n",
        "    results = cross_validate(SVC(gamma=float(gamma)), X, y, return_train_score= True, n_jobs=-1)\n",
        "    dictionary = {\n",
        "      \"train\": np.mean(results['train_score']),\n",
        "      \"test\": np.mean(results['test_score']),\n",
        "    }\n",
        "\n",
        "    return dictionary"
      ],
      "execution_count": 0,
      "outputs": []
    },
    {
      "cell_type": "markdown",
      "metadata": {
        "id": "FUYpJnDeUwKk",
        "colab_type": "text"
      },
      "source": [
        "Implement a function `plot_1` that plots the results of `evaluate_SVM` on a 1% stratified subsample of the FMNIST dataset for gamma values ranging from 1e-12 to 1e12 (25 values on a log scale). You can use the plotting functions `plot_live` defined above."
      ]
    },
    {
      "cell_type": "code",
      "metadata": {
        "id": "hLdgxnUWUwKn",
        "colab_type": "code",
        "outputId": "5760db2a-d83f-4a1b-a06c-50f5d3d6e4ac",
        "colab": {
          "base_uri": "https://localhost:8080/",
          "height": 287
        }
      },
      "source": [
        "# Implement\n",
        "from sklearn.model_selection import train_test_split, cross_validate\n",
        "from sklearn.svm import SVC\n",
        "\n",
        "def plot_1():\n",
        "    Xs, _, ys, _ = train_test_split(X,y, stratify=y, train_size=0.01)\n",
        "    plot_live(Xs, ys, evaluate_SVM, 'gamma', np.logspace(-12, 12, num=25))\n",
        "\n",
        "plot_1()"
      ],
      "execution_count": 9,
      "outputs": [
        {
          "output_type": "display_data",
          "data": {
            "image/png": "[encoded data removed]",
            "text/plain": [
              "<Figure size 432x288 with 1 Axes>"
            ]
          },
          "metadata": {
            "tags": []
          }
        }
      ]
    },
    {
      "cell_type": "markdown",
      "metadata": {
        "id": "kcEzYNMYUwKt",
        "colab_type": "text"
      },
      "source": [
        "### Question 1.2\n",
        "Interpret the graph. Answer the following questions with multiple choice:  \n",
        "- 'A': Underfitting\n",
        "- 'B': Overfitting\n",
        "- 'C': Neither underfitting nor overfitting\n",
        "- 'D': No answer"
      ]
    },
    {
      "cell_type": "markdown",
      "metadata": {
        "id": "oo-xLEnyUwKu",
        "colab_type": "text"
      },
      "source": [
        "For the gamma value 1e-9, is the model over- or underfitting?"
      ]
    },
    {
      "cell_type": "code",
      "metadata": {
        "id": "jMsh4efOUwKw",
        "colab_type": "code",
        "colab": {}
      },
      "source": [
        "# Fill in the correct answer, e.g. 'A'. Don't change the name of the variable\n",
        "q_1_2_1 = 'A'"
      ],
      "execution_count": 0,
      "outputs": []
    },
    {
      "cell_type": "markdown",
      "metadata": {
        "id": "bxfRbXvDUwK1",
        "colab_type": "text"
      },
      "source": [
        "For the gamma value 1e3, is the model over- or underfitting?"
      ]
    },
    {
      "cell_type": "code",
      "metadata": {
        "id": "fnq-1ytTUwK4",
        "colab_type": "code",
        "colab": {}
      },
      "source": [
        "# Fill in the correct answer, e.g. 'A'. Don't change the name of the variable\n",
        "q_1_2_2 = 'B'"
      ],
      "execution_count": 0,
      "outputs": []
    },
    {
      "cell_type": "markdown",
      "metadata": {
        "id": "rEVivCCYUwLA",
        "colab_type": "text"
      },
      "source": [
        "### Question 2.1\n",
        "Implement a function `time_SVM` that measures the train and predict time of an SVM with RBF kernel for a given sample size (training set size). Use the default gamma value. The same data can be used for training and prediction since we only care about the running time."
      ]
    },
    {
      "cell_type": "code",
      "metadata": {
        "id": "ZK98GG0LUwLC",
        "colab_type": "code",
        "colab": {}
      },
      "source": [
        "# Implement\n",
        "def time_SVM(X, y, sample_size):\n",
        "    \"\"\" Measure how long it takes to train a single SVM model and how fast it predicts. Run the algorithms on one core only.\n",
        "    Keyword arguments:\n",
        "    X -- the data for training and testing\n",
        "    y -- the correct labels\n",
        "    sample_size -- the percentage of the data that should be used for training and testing\n",
        "    \n",
        "    Returns: a dictionary with the measured time in seconds, e.g. {\"fit\": 12.1, \"predict\": 1.95}\n",
        "    \"\"\"\n",
        "\n",
        "    #sample size\n",
        "    Xs, _, ys, _ = train_test_split(X,y, stratify=y, train_size=float(sample_size))\n",
        "\n",
        "    #training time\n",
        "    start_fit = time.time()\n",
        "    model = SVC(kernel='rbf').fit(Xs, ys)\n",
        "    stop_fit = time.time()\n",
        "\n",
        "    #prediction time\n",
        "    start_pred = time.time()\n",
        "    y_pred = model.predict(Xs)\n",
        "    stop_pred = time.time()\n",
        "\n",
        "    dictionary = {\n",
        "      \"fit\": stop_fit - start_fit,\n",
        "      \"predict\": stop_pred - start_pred,\n",
        "    }\n",
        "\n",
        "    return dictionary"
      ],
      "execution_count": 0,
      "outputs": []
    },
    {
      "cell_type": "markdown",
      "metadata": {
        "id": "EJX9tbWVUwLG",
        "colab_type": "text"
      },
      "source": [
        "Implement a function `plot_2` that plots the results of `time_SVM` for a sample size between 0.001 and 0.05 of the full FMNIST dataset. Use at least 10 different values, on a log scale. You can again use the plotting functions `plot_live` defined above."
      ]
    },
    {
      "cell_type": "code",
      "metadata": {
        "id": "WagRwSCwUwLJ",
        "colab_type": "code",
        "outputId": "c77a0bd3-2ffb-4cfc-cfd2-dc15ba4b0429",
        "colab": {
          "base_uri": "https://localhost:8080/",
          "height": 288
        }
      },
      "source": [
        "# Implement\n",
        "def plot_2():\n",
        "    plot_live(X, y, time_SVM, 'sample_size', np.geomspace(0.001, 0.05, num=10), ylim=(0,12))\n",
        "plot_2()"
      ],
      "execution_count": 13,
      "outputs": [
        {
          "output_type": "display_data",
          "data": {
            "image/png": "[encoded data removed]",
            "text/plain": [
              "<Figure size 432x288 with 1 Axes>"
            ]
          },
          "metadata": {
            "tags": []
          }
        }
      ]
    },
    {
      "cell_type": "markdown",
      "metadata": {
        "id": "Q6A6i0e8UwLN",
        "colab_type": "text"
      },
      "source": [
        "### Question 2.2\n",
        "Interpret the graph. What do you observe?  \n",
        "- 'A': Fitting takes longer than predicting\n",
        "- 'B': Predicting takes longer than fitting\n",
        "- 'C': Fitting and predicting take exactly equally long\n",
        "- 'D': No answer"
      ]
    },
    {
      "cell_type": "code",
      "metadata": {
        "id": "1JB36PNmUwLP",
        "colab_type": "code",
        "colab": {}
      },
      "source": [
        "# Fill in the correct answer, e.g. 'A'. Don't change the name of the variable\n",
        "q_2_2 = 'B'"
      ],
      "execution_count": 0,
      "outputs": []
    },
    {
      "cell_type": "markdown",
      "metadata": {
        "id": "YwR5TTI2UwLU",
        "colab_type": "text"
      },
      "source": [
        "### Question 2.3\n",
        "Run the plot again, but this time using a function `time_SVM_tuned` which is the same as `time_SVM` except that ot uses gamma=1e-5 rather than the default gamma value."
      ]
    },
    {
      "cell_type": "code",
      "metadata": {
        "id": "5fySZiNsUwLV",
        "colab_type": "code",
        "outputId": "3cebcba9-57f9-4135-92f3-67c0acc2a0f4",
        "colab": {
          "base_uri": "https://localhost:8080/",
          "height": 288
        }
      },
      "source": [
        "# Implement\n",
        "def time_SVM_tuned(X, y, sample_size):\n",
        "    \"\"\" Measure how long it takes to train a single SVM model and how fast it predicts. \n",
        "    Run the algorithms on one core only. Use stratified sampling to subsample the data.\n",
        "    Keyword arguments:\n",
        "    X -- the data for training and testing\n",
        "    y -- the correct labels\n",
        "    sample_size -- the percentage of the data that should be used for training and testing\n",
        "    \n",
        "    Returns: a dictionary with the measured time in seconds, e.g. {\"fit\": 12.1, \"predict\": 1.95}\n",
        "    \"\"\"\n",
        "   #sample size\n",
        "    Xs, _, ys, _ = train_test_split(X,y, stratify=y, train_size=sample_size)\n",
        "\n",
        "    #training time\n",
        "    start_fit = time.time()\n",
        "    model = SVC(kernel='rbf', gamma=1e-5).fit(Xs, ys)\n",
        "    stop_fit = time.time()\n",
        "\n",
        "    #prediction time\n",
        "    start_pred = time.time()\n",
        "    y_pred = model.predict(Xs)\n",
        "    stop_pred = time.time()\n",
        "\n",
        "    dictionary = {\n",
        "      \"fit\": stop_fit - start_fit,\n",
        "      \"predict\": stop_pred - start_pred,\n",
        "    }\n",
        "\n",
        "    return dictionary\n",
        "\n",
        "# Implement\n",
        "def plot_3():\n",
        "    plot_live(X, y, time_SVM_tuned, 'sample_size', np.geomspace(0.001, 0.05, num=10), ylim=(0,12))\n",
        "plot_3()"
      ],
      "execution_count": 15,
      "outputs": [
        {
          "output_type": "display_data",
          "data": {
            "image/png": "[encoded data removed]",
            "text/plain": [
              "<Figure size 432x288 with 1 Axes>"
            ]
          },
          "metadata": {
            "tags": []
          }
        }
      ]
    },
    {
      "cell_type": "markdown",
      "metadata": {
        "id": "OEp__N_pUwLc",
        "colab_type": "text"
      },
      "source": [
        "### Question 2.4\n",
        "What do you observe? Which differences do you see? For each difference, explain what may cause the effect. Answer inside the multi-line string. Use less than 400 characters. "
      ]
    },
    {
      "cell_type": "code",
      "metadata": {
        "id": "cbIN0hzmUwLd",
        "colab_type": "code",
        "colab": {}
      },
      "source": [
        "# Fill in your answer\n",
        "q_2_4_answer = \"\"\"\n",
        "Overall, the first model performs better than the second one. This happens becuase, as we increase the gamma value, more SVMs are needed to build the model. Therefore, both complexity and computational time increase. Also, in the second model, training takes more time then predicting, the opposite of the first model. This happens as the training phase is most affected by high complexity models.\"\"\""
      ],
      "execution_count": 0,
      "outputs": []
    },
    {
      "cell_type": "code",
      "metadata": {
        "id": "I4pqjnZvUwLi",
        "colab_type": "code",
        "outputId": "55175866-89f5-41ea-b903-69575012a554",
        "colab": {
          "base_uri": "https://localhost:8080/",
          "height": 34
        }
      },
      "source": [
        "# Check your answer's length\n",
        "print(\"Your answer is {} characters long\".format(len(q_2_4_answer))) "
      ],
      "execution_count": 17,
      "outputs": [
        {
          "output_type": "stream",
          "text": [
            "Your answer is 398 characters long\n"
          ],
          "name": "stdout"
        }
      ]
    }
  ]
}